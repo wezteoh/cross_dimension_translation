{
 "cells": [
  {
   "cell_type": "code",
   "execution_count": 1,
   "metadata": {
    "collapsed": true
   },
   "outputs": [],
   "source": [
    "%matplotlib inline\n",
    "import numpy as np\n",
    "import matplotlib\n",
    "import matplotlib.pyplot as plt\n",
    "from mpl_toolkits.mplot3d import Axes3D\n",
    "import imageio\n",
    "\n",
    "import torch\n",
    "from torch.autograd import Variable\n",
    "import torch.nn as nn\n",
    "import torch.nn.functional as F\n",
    "import torch.optim as optim\n",
    "from torch.nn import init\n",
    "from torch.optim import lr_scheduler\n",
    "import torch.utils.data"
   ]
  },
  {
   "cell_type": "code",
   "execution_count": 2,
   "metadata": {
    "collapsed": true
   },
   "outputs": [],
   "source": [
    "#Utils\n",
    "def display3DObject(test_object):   \n",
    "    print(\"Displaying the object\")\n",
    "    fig = plt.figure()\n",
    "    ax = fig.gca(projection='3d')\n",
    "    ax.voxels(test_object, edgecolor='k')\n",
    "    plt.show()\n",
    "    \n",
    "def generateLatent(batch_size = 5,z_size = 200, noise=0.33):\n",
    "    return Variable(torch.Tensor(batch_size, z_size).normal_(0, noise).cuda()).view(batch_size, z_size, 1,1,1)\n"
   ]
  },
  {
   "cell_type": "code",
   "execution_count": 3,
   "metadata": {
    "collapsed": true
   },
   "outputs": [],
   "source": [
    "# Creating a generator: Some latent vector to 3D voxel space \n",
    "# torch.nn.ConvTranspose3d(in_channels, out_channels, kernel_size, stride=1, padding=0, output_padding=0, groups=1, bias=True, dilation=1)\n",
    "# (Din−1)∗stride[0]−2∗padding[0]+kernel_size[0]+output_padding[0]\n",
    "\n",
    "class generator(nn.Module):\n",
    "    def __init__(self, z_size=200, cube_size=32):\n",
    "        super(generator, self).__init__()\n",
    "        \n",
    "        self.z_size = z_size\n",
    "        self.cube_size = cube_size\n",
    "        \n",
    "        self.layer1 = torch.nn.Sequential(\n",
    "            torch.nn.ConvTranspose3d(self.z_size, self.cube_size*4, kernel_size=4, stride=2, padding=(0,0,0)),\n",
    "            torch.nn.BatchNorm3d(self.cube_size*4),\n",
    "            torch.nn.ReLU()\n",
    "        )\n",
    "        \n",
    "        self.layer2 = torch.nn.Sequential(\n",
    "            torch.nn.ConvTranspose3d(self.cube_size*4, self.cube_size*2, kernel_size=4, stride=2, padding=(1, 1, 1)),\n",
    "            torch.nn.BatchNorm3d(self.cube_size*2),\n",
    "            torch.nn.ReLU()\n",
    "        )\n",
    "        self.layer3 = torch.nn.Sequential(\n",
    "            torch.nn.ConvTranspose3d(self.cube_size*2, self.cube_size*1, kernel_size=4, stride=2, padding=(1, 1, 1)),\n",
    "            torch.nn.BatchNorm3d(self.cube_size*1),\n",
    "            torch.nn.ReLU()\n",
    "        )\n",
    "\n",
    "        self.layer4 = torch.nn.Sequential(\n",
    "            torch.nn.ConvTranspose3d(self.cube_size, 1, kernel_size=4, stride=2,  padding=(1, 1, 1)),\n",
    "            torch.nn.Sigmoid()\n",
    "        )\n",
    "        \n",
    "    def forward(self, x):\n",
    "        out = self.layer1(x)\n",
    "        out = self.layer2(out)\n",
    "        out = self.layer3(out)\n",
    "        out = self.layer4(out)\n",
    "        \n",
    "        return out\n",
    "        \n",
    "        \n"
   ]
  },
  {
   "cell_type": "code",
   "execution_count": 4,
   "metadata": {
    "collapsed": true
   },
   "outputs": [],
   "source": [
    "# Conv3d: (in_channels, out_channels, kernel_size, stride=1, padding=0, dilation=1, groups=1, bias=True)\n",
    "# input size (N,Cin,D,H,W) and output (N,Cout,Dout,Hout,Wout) \n",
    "\n",
    "\n",
    "class discriminator(nn.Module):\n",
    "    def __init__(self):\n",
    "        super(discriminator, self).__init__()\n",
    "        self.cube_len = 32\n",
    "        self.leak_value = 0.2\n",
    "        self.bias = False\n",
    "\n",
    "        padd = (0,0,0)\n",
    "        if self.cube_len == 32:\n",
    "            padd = (1,1,1)\n",
    "            \n",
    "        self.layer1 = torch.nn.Sequential(\n",
    "            torch.nn.Conv3d(1, self.cube_len, kernel_size=4, stride=2, bias=self.bias, padding=(1, 1, 1)),\n",
    "            torch.nn.BatchNorm3d(self.cube_len),\n",
    "            torch.nn.LeakyReLU(self.leak_value)\n",
    "        )\n",
    "        self.layer2 = torch.nn.Sequential(\n",
    "            torch.nn.Conv3d(self.cube_len, self.cube_len*2, kernel_size=4, stride=2, bias=self.bias, padding=(1, 1, 1)),\n",
    "            torch.nn.BatchNorm3d(self.cube_len*2),\n",
    "            torch.nn.LeakyReLU(self.leak_value)\n",
    "        )\n",
    "        self.layer3 = torch.nn.Sequential(\n",
    "            torch.nn.Conv3d(self.cube_len*2, self.cube_len*4, kernel_size=4, stride=2, bias=self.bias, padding=(1, 1, 1)),\n",
    "            torch.nn.BatchNorm3d(self.cube_len*4),\n",
    "            torch.nn.LeakyReLU(self.leak_value)\n",
    "        )\n",
    "        self.layer4 = torch.nn.Sequential(\n",
    "            torch.nn.Conv3d(self.cube_len*4, self.cube_len*8, kernel_size=4, stride=2, bias=self.bias, padding=(1, 1, 1)),\n",
    "            torch.nn.BatchNorm3d(self.cube_len*8),\n",
    "            torch.nn.LeakyReLU(self.leak_value)\n",
    "        )\n",
    "        self.layer5 = torch.nn.Sequential(\n",
    "            torch.nn.Conv3d(self.cube_len*8, 1, kernel_size=4, stride=2, bias=self.bias, padding=padd),\n",
    "            torch.nn.Sigmoid()\n",
    "        )\n",
    "        \n",
    "    def forward(self, x):\n",
    "        #print(x)\n",
    "        out = x.view(-1, 1, self.cube_len, self.cube_len, self.cube_len)\n",
    "#         print(out.size()) # torch.Size([100, 1, 32, 32, 32])\n",
    "        out = self.layer1(out)\n",
    "#         print(out.size())  # torch.Size([100, 32, 16, 16, 16])\n",
    "        out = self.layer2(out)\n",
    "#         print(out.size())  # torch.Size([100, 64, 8, 8, 8])\n",
    "        out = self.layer3(out)\n",
    "#         print(out.size())  # torch.Size([100, 128, 4, 4, 4])\n",
    "        out = self.layer4(out)\n",
    "#         print(out.size())  # torch.Size([100, 256, 2, 2, 2])\n",
    "        out = self.layer5(out)\n",
    "#         print(out.size())  # torch.Size([100, 1, 1, 1, 1])\n",
    "\n",
    "        return out.squeeze()\n",
    "        "
   ]
  },
  {
   "cell_type": "code",
   "execution_count": 68,
   "metadata": {
    "collapsed": true
   },
   "outputs": [],
   "source": [
    "# hyperparameters\n",
    "batch_size = 5\n",
    "lr_g = 0.0025\n",
    "lr_d = 0.001\n",
    "adam_beta_g = (0.5, 0.5)\n",
    "adam_beta_d = (0.5, 0.5)"
   ]
  },
  {
   "cell_type": "code",
   "execution_count": 69,
   "metadata": {
    "collapsed": true
   },
   "outputs": [],
   "source": [
    "# load data \n",
    "voxels = np.load(\"chair_voxels_filtered_0.npy\")\n",
    "train_loader = torch.utils.data.DataLoader(voxels, batch_size=batch_size, shuffle=True, drop_last=True)"
   ]
  },
  {
   "cell_type": "code",
   "execution_count": 70,
   "metadata": {},
   "outputs": [
    {
     "data": {
      "text/plain": [
       "discriminator(\n",
       "  (layer1): Sequential(\n",
       "    (0): Conv3d(1, 32, kernel_size=(4, 4, 4), stride=(2, 2, 2), padding=(1, 1, 1), bias=False)\n",
       "    (1): BatchNorm3d(32, eps=1e-05, momentum=0.1, affine=True)\n",
       "    (2): LeakyReLU(0.2)\n",
       "  )\n",
       "  (layer2): Sequential(\n",
       "    (0): Conv3d(32, 64, kernel_size=(4, 4, 4), stride=(2, 2, 2), padding=(1, 1, 1), bias=False)\n",
       "    (1): BatchNorm3d(64, eps=1e-05, momentum=0.1, affine=True)\n",
       "    (2): LeakyReLU(0.2)\n",
       "  )\n",
       "  (layer3): Sequential(\n",
       "    (0): Conv3d(64, 128, kernel_size=(4, 4, 4), stride=(2, 2, 2), padding=(1, 1, 1), bias=False)\n",
       "    (1): BatchNorm3d(128, eps=1e-05, momentum=0.1, affine=True)\n",
       "    (2): LeakyReLU(0.2)\n",
       "  )\n",
       "  (layer4): Sequential(\n",
       "    (0): Conv3d(128, 256, kernel_size=(4, 4, 4), stride=(2, 2, 2), padding=(1, 1, 1), bias=False)\n",
       "    (1): BatchNorm3d(256, eps=1e-05, momentum=0.1, affine=True)\n",
       "    (2): LeakyReLU(0.2)\n",
       "  )\n",
       "  (layer5): Sequential(\n",
       "    (0): Conv3d(256, 1, kernel_size=(4, 4, 4), stride=(2, 2, 2), padding=(1, 1, 1), bias=False)\n",
       "    (1): Sigmoid()\n",
       "  )\n",
       ")"
      ]
     },
     "execution_count": 70,
     "metadata": {},
     "output_type": "execute_result"
    }
   ],
   "source": [
    "gen3d = generator()\n",
    "gen3d.cuda()\n",
    "dis3d = discriminator()\n",
    "dis3d.cuda()"
   ]
  },
  {
   "cell_type": "code",
   "execution_count": 71,
   "metadata": {},
   "outputs": [],
   "source": [
    "D_solver = optim.Adam(dis3d.parameters(), lr=lr_d, betas = adam_beta_d)\n",
    "G_solver = optim.Adam(gen3d.parameters(), lr=lr_g, betas = adam_beta_g)\n",
    "# D_solver = optim.Adam(dis3d.parameters(), lr=0.001)\n",
    "# G_solver = optim.Adam(gen3d.parameters(), lr=0.0025)"
   ]
  },
  {
   "cell_type": "code",
   "execution_count": 72,
   "metadata": {
    "collapsed": true
   },
   "outputs": [],
   "source": [
    "G_Losses = []\n",
    "D_Losses = []\n",
    "R_Accs = []\n",
    "F_Accs = []"
   ]
  },
  {
   "cell_type": "code",
   "execution_count": 78,
   "metadata": {},
   "outputs": [
    {
     "name": "stdout",
     "output_type": "stream",
     "text": [
      "Epoch:  0 \n",
      " D loss:  0.502568  G loss:  2.33585\n",
      " Accuracy:  0.915901064873  Real Acc:  0.923675  Fake Acc:  0.908127\n",
      "Epoch:  1 \n",
      " D loss:  0.53954  G loss:  2.13147\n",
      " Accuracy:  0.911307394505  Real Acc:  0.90742  Fake Acc:  0.915194\n",
      "Epoch:  2 \n",
      " D loss:  0.544793  G loss:  2.24152\n",
      " Accuracy:  0.900000095367  Real Acc:  0.901767  Fake Acc:  0.898233\n",
      "Epoch:  3 \n",
      " D loss:  0.527122  G loss:  2.15191\n",
      " Accuracy:  0.909187316895  Real Acc:  0.917315  Fake Acc:  0.90106\n",
      "Epoch:  4 \n",
      " D loss:  0.52827  G loss:  2.25022\n",
      " Accuracy:  0.908127188683  Real Acc:  0.915194  Fake Acc:  0.90106\n",
      "Epoch:  5 \n",
      " D loss:  0.480853  G loss:  2.2572\n",
      " Accuracy:  0.922968268394  Real Acc:  0.929329  Fake Acc:  0.916608\n"
     ]
    },
    {
     "ename": "KeyboardInterrupt",
     "evalue": "",
     "output_type": "error",
     "traceback": [
      "\u001b[0;31m---------------------------------------------------------------------------\u001b[0m",
      "\u001b[0;31mKeyboardInterrupt\u001b[0m                         Traceback (most recent call last)",
      "\u001b[0;32m<ipython-input-78-c03f62f0b129>\u001b[0m in \u001b[0;36m<module>\u001b[0;34m()\u001b[0m\n\u001b[1;32m     22\u001b[0m         \u001b[0mreal_labels_pred\u001b[0m \u001b[0;34m=\u001b[0m \u001b[0mdis3d\u001b[0m\u001b[0;34m(\u001b[0m\u001b[0mreal\u001b[0m\u001b[0;34m)\u001b[0m\u001b[0;34m\u001b[0m\u001b[0m\n\u001b[1;32m     23\u001b[0m         \u001b[0;31m#print(real_labels_pred)\u001b[0m\u001b[0;34m\u001b[0m\u001b[0;34m\u001b[0m\u001b[0m\n\u001b[0;32m---> 24\u001b[0;31m         \u001b[0mloss_fake\u001b[0m \u001b[0;34m=\u001b[0m \u001b[0mloss\u001b[0m\u001b[0;34m(\u001b[0m\u001b[0mfake_labels_pred\u001b[0m\u001b[0;34m,\u001b[0m \u001b[0mfake_labels\u001b[0m\u001b[0;34m)\u001b[0m\u001b[0;34m\u001b[0m\u001b[0m\n\u001b[0m\u001b[1;32m     25\u001b[0m         \u001b[0mloss_real\u001b[0m \u001b[0;34m=\u001b[0m \u001b[0mloss\u001b[0m\u001b[0;34m(\u001b[0m\u001b[0mreal_labels_pred\u001b[0m\u001b[0;34m,\u001b[0m \u001b[0mreal_labels\u001b[0m\u001b[0;34m)\u001b[0m\u001b[0;34m\u001b[0m\u001b[0m\n\u001b[1;32m     26\u001b[0m         \u001b[0md_loss\u001b[0m \u001b[0;34m=\u001b[0m \u001b[0mloss_fake\u001b[0m \u001b[0;34m+\u001b[0m \u001b[0mloss_real\u001b[0m\u001b[0;34m\u001b[0m\u001b[0m\n",
      "\u001b[0;32m/home/weizhen/anaconda3/lib/python3.6/site-packages/torch/nn/modules/module.py\u001b[0m in \u001b[0;36m__call__\u001b[0;34m(self, *input, **kwargs)\u001b[0m\n\u001b[1;32m    355\u001b[0m             \u001b[0mresult\u001b[0m \u001b[0;34m=\u001b[0m \u001b[0mself\u001b[0m\u001b[0;34m.\u001b[0m\u001b[0m_slow_forward\u001b[0m\u001b[0;34m(\u001b[0m\u001b[0;34m*\u001b[0m\u001b[0minput\u001b[0m\u001b[0;34m,\u001b[0m \u001b[0;34m**\u001b[0m\u001b[0mkwargs\u001b[0m\u001b[0;34m)\u001b[0m\u001b[0;34m\u001b[0m\u001b[0m\n\u001b[1;32m    356\u001b[0m         \u001b[0;32melse\u001b[0m\u001b[0;34m:\u001b[0m\u001b[0;34m\u001b[0m\u001b[0m\n\u001b[0;32m--> 357\u001b[0;31m             \u001b[0mresult\u001b[0m \u001b[0;34m=\u001b[0m \u001b[0mself\u001b[0m\u001b[0;34m.\u001b[0m\u001b[0mforward\u001b[0m\u001b[0;34m(\u001b[0m\u001b[0;34m*\u001b[0m\u001b[0minput\u001b[0m\u001b[0;34m,\u001b[0m \u001b[0;34m**\u001b[0m\u001b[0mkwargs\u001b[0m\u001b[0;34m)\u001b[0m\u001b[0;34m\u001b[0m\u001b[0m\n\u001b[0m\u001b[1;32m    358\u001b[0m         \u001b[0;32mfor\u001b[0m \u001b[0mhook\u001b[0m \u001b[0;32min\u001b[0m \u001b[0mself\u001b[0m\u001b[0;34m.\u001b[0m\u001b[0m_forward_hooks\u001b[0m\u001b[0;34m.\u001b[0m\u001b[0mvalues\u001b[0m\u001b[0;34m(\u001b[0m\u001b[0;34m)\u001b[0m\u001b[0;34m:\u001b[0m\u001b[0;34m\u001b[0m\u001b[0m\n\u001b[1;32m    359\u001b[0m             \u001b[0mhook_result\u001b[0m \u001b[0;34m=\u001b[0m \u001b[0mhook\u001b[0m\u001b[0;34m(\u001b[0m\u001b[0mself\u001b[0m\u001b[0;34m,\u001b[0m \u001b[0minput\u001b[0m\u001b[0;34m,\u001b[0m \u001b[0mresult\u001b[0m\u001b[0;34m)\u001b[0m\u001b[0;34m\u001b[0m\u001b[0m\n",
      "\u001b[0;32m/home/weizhen/anaconda3/lib/python3.6/site-packages/torch/nn/modules/loss.py\u001b[0m in \u001b[0;36mforward\u001b[0;34m(self, input, target)\u001b[0m\n\u001b[1;32m    428\u001b[0m         \u001b[0m_assert_no_grad\u001b[0m\u001b[0;34m(\u001b[0m\u001b[0mtarget\u001b[0m\u001b[0;34m)\u001b[0m\u001b[0;34m\u001b[0m\u001b[0m\n\u001b[1;32m    429\u001b[0m         return F.binary_cross_entropy(input, target, weight=self.weight,\n\u001b[0;32m--> 430\u001b[0;31m                                       size_average=self.size_average)\n\u001b[0m\u001b[1;32m    431\u001b[0m \u001b[0;34m\u001b[0m\u001b[0m\n\u001b[1;32m    432\u001b[0m \u001b[0;34m\u001b[0m\u001b[0m\n",
      "\u001b[0;32m/home/weizhen/anaconda3/lib/python3.6/site-packages/torch/nn/functional.py\u001b[0m in \u001b[0;36mbinary_cross_entropy\u001b[0;34m(input, target, weight, size_average)\u001b[0m\n\u001b[1;32m   1198\u001b[0m             \u001b[0mweight\u001b[0m \u001b[0;34m=\u001b[0m \u001b[0mVariable\u001b[0m\u001b[0;34m(\u001b[0m\u001b[0mweight\u001b[0m\u001b[0;34m)\u001b[0m\u001b[0;34m\u001b[0m\u001b[0m\n\u001b[1;32m   1199\u001b[0m \u001b[0;34m\u001b[0m\u001b[0m\n\u001b[0;32m-> 1200\u001b[0;31m     \u001b[0;32mreturn\u001b[0m \u001b[0mtorch\u001b[0m\u001b[0;34m.\u001b[0m\u001b[0m_C\u001b[0m\u001b[0;34m.\u001b[0m\u001b[0m_nn\u001b[0m\u001b[0;34m.\u001b[0m\u001b[0mbinary_cross_entropy\u001b[0m\u001b[0;34m(\u001b[0m\u001b[0minput\u001b[0m\u001b[0;34m,\u001b[0m \u001b[0mtarget\u001b[0m\u001b[0;34m,\u001b[0m \u001b[0mweight\u001b[0m\u001b[0;34m,\u001b[0m \u001b[0msize_average\u001b[0m\u001b[0;34m)\u001b[0m\u001b[0;34m\u001b[0m\u001b[0m\n\u001b[0m\u001b[1;32m   1201\u001b[0m \u001b[0;34m\u001b[0m\u001b[0m\n\u001b[1;32m   1202\u001b[0m \u001b[0;34m\u001b[0m\u001b[0m\n",
      "\u001b[0;31mKeyboardInterrupt\u001b[0m: "
     ]
    }
   ],
   "source": [
    "#Training the system\n",
    "num_epochs = 20\n",
    "\n",
    "loss = nn.BCELoss()\n",
    "\n",
    "\n",
    "for epoch in range(num_epochs):\n",
    "    d_losses = []\n",
    "    g_losses = []\n",
    "    real_accs = []\n",
    "    fake_accs = []\n",
    "    for batch_idx, data3d in enumerate(train_loader):\n",
    "        real_labels = Variable(torch.ones(batch_size).cuda())\n",
    "        fake_labels = Variable(torch.zeros(batch_size).cuda())\n",
    "        real = Variable(data3d).cuda().float()\n",
    "        \n",
    "        #Discriminator loss\n",
    "        z = generateLatent(batch_size=batch_size)\n",
    "        fake = gen3d(z)\n",
    "        fake_labels_pred = dis3d(fake)\n",
    "        #print(Variable(data3d))\n",
    "        real_labels_pred = dis3d(real)\n",
    "        #print(real_labels_pred)\n",
    "        loss_fake = loss(fake_labels_pred, fake_labels)\n",
    "        loss_real = loss(real_labels_pred, real_labels)\n",
    "        d_loss = loss_fake + loss_real\n",
    "        d_real_acu = torch.ge(real_labels_pred.squeeze(), 0.5).float()\n",
    "        d_fake_acu = torch.le(fake_labels_pred.squeeze(), 0.5).float()\n",
    "        d_real_acu_mean = torch.mean(d_real_acu)\n",
    "        d_fake_acu_mean = torch.mean(d_fake_acu)\n",
    "        d_total_acu = torch.mean(torch.cat((d_real_acu, d_fake_acu),0))\n",
    "        if d_total_acu.data.cpu().numpy() <=0.8:\n",
    "#         print(d_total_acu.data)\n",
    "#         if d_total_acu <= 0.8:\n",
    "            dis3d.zero_grad()\n",
    "            d_loss.backward()\n",
    "            D_solver.step()\n",
    "        \n",
    "        #Generator loss \n",
    "        z = generateLatent(batch_size=batch_size)\n",
    "        fake = gen3d(z)\n",
    "        d_fake = dis3d(fake)\n",
    "        g_loss = loss(d_fake, real_labels)\n",
    "\n",
    "        dis3d.zero_grad()\n",
    "        gen3d.zero_grad()\n",
    "        g_loss.backward()\n",
    "        G_solver.step()\n",
    "        \n",
    "        d_losses.append(d_loss.data.cpu().numpy())\n",
    "        g_losses.append(g_loss.data.cpu().numpy())\n",
    "        real_accs.append(d_real_acu_mean.data.cpu().numpy())\n",
    "        fake_accs.append(d_fake_acu_mean.data.cpu().numpy())\n",
    "        \n",
    "#         #Printing\n",
    "#         if batch_idx%50 == 0:\n",
    "#             print(\"Epoch: \", epoch)\n",
    "#             print(\"batch iteration: \", batch_idx, \"D loss: \", d_loss.data.cpu().numpy(), \\\n",
    "#                   \" G loss: \", g_loss.data.cpu().numpy())\n",
    "#             print(\"Accuracy: \", d_total_acu.data.cpu().numpy(), \" Real Acc: \", d_real_acu_mean.data.cpu().numpy(), \\\n",
    "#                   \" Fake Acc: \", d_fake_acu_mean.data.cpu().numpy())\n",
    "        \n",
    "    d_losses_mean = np.mean(np.concatenate(d_losses))\n",
    "    g_losses_mean =  np.mean(np.concatenate(g_losses))\n",
    "    real_accs_mean =  np.mean(np.concatenate(real_accs))\n",
    "    fake_accs_mean =  np.mean(np.concatenate(fake_accs))\n",
    "    \n",
    "    print(\"Epoch: \", epoch, '\\n', \"D loss: \", d_losses_mean, \" G loss: \", g_losses_mean)\n",
    "    print(\" Accuracy: \", (real_accs_mean+ fake_accs_mean)/2 , \" Real Acc: \", real_accs_mean, \\\n",
    "          \" Fake Acc: \", fake_accs_mean)\n",
    "    \n",
    "    G_Losses.append(g_losses_mean)\n",
    "    D_Losses.append(d_losses_mean)\n",
    "    R_Accs.append(real_accs_mean)\n",
    "    F_Accs.append(fake_accs_mean)"
   ]
  },
  {
   "cell_type": "code",
   "execution_count": 79,
   "metadata": {},
   "outputs": [
    {
     "data": {
      "text/plain": [
       "[2.0083318,\n",
       " 1.9199741,\n",
       " 1.9949839,\n",
       " 1.9536685,\n",
       " 1.9174818,\n",
       " 2.2640715,\n",
       " 2.2450838,\n",
       " 2.0722609,\n",
       " 2.1105201,\n",
       " 2.0900488,\n",
       " 2.019057,\n",
       " 2.33585,\n",
       " 2.1314692,\n",
       " 2.2415173,\n",
       " 2.1519074,\n",
       " 2.2502203,\n",
       " 2.2571964]"
      ]
     },
     "execution_count": 79,
     "metadata": {},
     "output_type": "execute_result"
    }
   ],
   "source": [
    "G_Losses"
   ]
  },
  {
   "cell_type": "code",
   "execution_count": 80,
   "metadata": {},
   "outputs": [],
   "source": [
    "# test\n",
    "latent = generateLatent(1)\n",
    "faker = gen3d(latent)"
   ]
  },
  {
   "cell_type": "code",
   "execution_count": 81,
   "metadata": {},
   "outputs": [
    {
     "name": "stdout",
     "output_type": "stream",
     "text": [
      "Displaying the object\n"
     ]
    },
    {
     "data": {
      "image/png": "[encoded data removed]",
      "text/plain": [
       "<Figure size 432x288 with 1 Axes>"
      ]
     },
     "metadata": {},
     "output_type": "display_data"
    }
   ],
   "source": [
    "display3DObject(faker.squeeze().data.cpu().numpy()>0.5)"
   ]
  },
  {
   "cell_type": "code",
   "execution_count": null,
   "metadata": {
    "collapsed": true
   },
   "outputs": [],
   "source": []
  }
 ],
 "metadata": {
  "kernelspec": {
   "display_name": "Python 3",
   "language": "python",
   "name": "python3"
  },
  "language_info": {
   "codemirror_mode": {
    "name": "ipython",
    "version": 3
   },
   "file_extension": ".py",
   "mimetype": "text/x-python",
   "name": "python",
   "nbconvert_exporter": "python",
   "pygments_lexer": "ipython3",
   "version": "3.6.5"
  }
 },
 "nbformat": 4,
 "nbformat_minor": 2
}
