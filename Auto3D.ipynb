{
 "cells": [
  {
   "cell_type": "code",
   "execution_count": 1,
   "metadata": {},
   "outputs": [],
   "source": [
    "%matplotlib inline\n",
    "import numpy as np\n",
    "import matplotlib\n",
    "import matplotlib.pyplot as plt\n",
    "from mpl_toolkits.mplot3d import Axes3D\n",
    "import imageio\n",
    "\n",
    "import torch\n",
    "from torch.autograd import Variable\n",
    "import torch.nn as nn\n",
    "import torch.nn.functional as F\n",
    "import torch.optim as optim\n",
    "from torch.nn import init\n",
    "from torch.optim import lr_scheduler\n",
    "import torch.utils.data"
   ]
  },
  {
   "cell_type": "code",
   "execution_count": 15,
   "metadata": {},
   "outputs": [],
   "source": [
    "# Creating a generator: Image to 3D voxel space \n",
    "# torch.nn.ConvTranspose3d(in_channels, out_channels, kernel_size, stride=1, padding=0, output_padding=0, groups=1, bias=True, dilation=1)\n",
    "# (Din−1)∗stride[0]−2∗padding[0]+kernel_size[0]+output_padding[0]\n",
    "\n",
    "# Latent to 3D Space\n",
    "class decoder(nn.Module):\n",
    "    def __init__(self, z_size=200, cube_size=32):\n",
    "        super(decoder, self).__init__()\n",
    "        \n",
    "        self.z_size = z_size\n",
    "        self.cube_size = cube_size\n",
    "        \n",
    "        self.layer1 = torch.nn.Sequential(\n",
    "            torch.nn.ConvTranspose3d(self.z_size, self.cube_size*4, kernel_size=4, stride=2, padding=(0,0,0)),\n",
    "            torch.nn.BatchNorm3d(self.cube_size*4),\n",
    "            torch.nn.ReLU()\n",
    "        )\n",
    "        \n",
    "        self.layer2 = torch.nn.Sequential(\n",
    "            torch.nn.ConvTranspose3d(self.cube_size*4, self.cube_size*2, kernel_size=4, stride=2, padding=(1, 1, 1)),\n",
    "            torch.nn.BatchNorm3d(self.cube_size*2),\n",
    "            torch.nn.ReLU()\n",
    "        )\n",
    "        self.layer3 = torch.nn.Sequential(\n",
    "            torch.nn.ConvTranspose3d(self.cube_size*2, self.cube_size*1, kernel_size=4, stride=2, padding=(1, 1, 1)),\n",
    "            torch.nn.BatchNorm3d(self.cube_size*1),\n",
    "            torch.nn.ReLU()\n",
    "        )\n",
    "\n",
    "        self.layer4 = torch.nn.Sequential(\n",
    "            torch.nn.ConvTranspose3d(self.cube_size, 1, kernel_size=4, stride=2,  padding=(1, 1, 1)),\n",
    "            torch.nn.Sigmoid()\n",
    "        )\n",
    "        \n",
    "    def forward(self, x):\n",
    "        out = self.layer1(x)\n",
    "        out = self.layer2(out)\n",
    "        out = self.layer3(out)\n",
    "        out = self.layer4(out)\n",
    "        \n",
    "        return out\n",
    "        \n",
    "class encoder(nn.Module):\n",
    "    def __init__(self, input_nc=1, output_nc=200, ngf=8, norm_layer=nn.BatchNorm2d,\\\n",
    "                 use_dropout=False, padding_type='reflect'):\n",
    "        super(encoder, self).__init__()\n",
    "        self.input_nc = input_nc\n",
    "        self.output_nc = output_nc\n",
    "        self.ngf = ngf\n",
    "        \n",
    "        use_bias = norm_layer == nn.InstanceNorm2d\n",
    "\n",
    "        model = [nn.ReflectionPad2d(2),\n",
    "                 nn.Conv2d(input_nc, ngf, kernel_size=5, padding=0,\n",
    "                           bias=use_bias),\n",
    "                 norm_layer(ngf),\n",
    "                 nn.ReLU(True)]\n",
    "        \n",
    "        \n",
    "        n_downsampling = 4\n",
    "        for i in range(n_downsampling):\n",
    "            mult = 2**i\n",
    "            model += [nn.Conv2d(ngf * mult, ngf * mult * 2, kernel_size=5,\n",
    "                                stride=2, padding=1, bias=use_bias),\n",
    "                      norm_layer(ngf * mult * 2),\n",
    "                      nn.ReLU(True)]\n",
    "        \n",
    "        for i in range(2):\n",
    "            model += [nn.Conv2d(ngf * mult * 2, ngf * mult * 2, kernel_size=3,\n",
    "                                    stride=2, padding=1, bias=use_bias),\n",
    "                          norm_layer(ngf * mult * 2),\n",
    "                          nn.ReLU(True)]\n",
    "            \n",
    "        model += [nn.Conv2d(ngf * mult * 2, output_nc, kernel_size=2,\n",
    "                                    stride=1, padding=0, bias=use_bias)]\n",
    "        model += [nn.Tanh()]\n",
    "        \n",
    "            \n",
    "        \n",
    "\n",
    "#         mult = 2**(n_downsampling-1)\n",
    "#         for i in range(n_blocks):\n",
    "#             model += [ResnetBlock(ngf * mult, padding_type=padding_type, norm_layer=norm_layer,\\\n",
    "#                                   use_dropout=use_dropout, use_bias=use_bias)]\n",
    "            \n",
    "        self.model = nn.ModuleList(model)\n",
    "#         self.model = nn.Sequential(*model)\n",
    "\n",
    "    def forward(self, x):\n",
    "        for model in self.model:\n",
    "            x = model(x)\n",
    "#             print(x.size())\n",
    "        return x\n",
    "        #return self.model(input)\n",
    "        \n",
    "        "
   ]
  },
  {
   "cell_type": "code",
   "execution_count": 24,
   "metadata": {},
   "outputs": [],
   "source": [
    "# Conv3d: (in_channels, out_channels, kernel_size, stride=1, padding=0, dilation=1, groups=1, bias=True)\n",
    "# input size (N,Cin,D,H,W) and output (N,Cout,Dout,Hout,Wout) \n",
    "\n",
    "\n",
    "class discriminator(nn.Module):\n",
    "    def __init__(self):\n",
    "        super(discriminator, self).__init__()\n",
    "        self.cube_len = 32\n",
    "        self.leak_value = 0.2\n",
    "        self.bias = False\n",
    "\n",
    "        padd = (0,0,0)\n",
    "        if self.cube_len == 32:\n",
    "            padd = (1,1,1)\n",
    "            \n",
    "        self.layer1 = torch.nn.Sequential(\n",
    "            torch.nn.Conv3d(1, self.cube_len, kernel_size=4, stride=2, bias=self.bias, padding=(1, 1, 1)),\n",
    "            torch.nn.BatchNorm3d(self.cube_len),\n",
    "            torch.nn.LeakyReLU(self.leak_value)\n",
    "        )\n",
    "        self.layer2 = torch.nn.Sequential(\n",
    "            torch.nn.Conv3d(self.cube_len, self.cube_len*2, kernel_size=4, stride=2, bias=self.bias, padding=(1, 1, 1)),\n",
    "            torch.nn.BatchNorm3d(self.cube_len*2),\n",
    "            torch.nn.LeakyReLU(self.leak_value)\n",
    "        )\n",
    "        self.layer3 = torch.nn.Sequential(\n",
    "            torch.nn.Conv3d(self.cube_len*2, self.cube_len*4, kernel_size=4, stride=2, bias=self.bias, padding=(1, 1, 1)),\n",
    "            torch.nn.BatchNorm3d(self.cube_len*4),\n",
    "            torch.nn.LeakyReLU(self.leak_value)\n",
    "        )\n",
    "        self.layer4 = torch.nn.Sequential(\n",
    "            torch.nn.Conv3d(self.cube_len*4, self.cube_len*8, kernel_size=4, stride=2, bias=self.bias, padding=(1, 1, 1)),\n",
    "            torch.nn.BatchNorm3d(self.cube_len*8),\n",
    "            torch.nn.LeakyReLU(self.leak_value)\n",
    "        )\n",
    "        self.layer5 = torch.nn.Sequential(\n",
    "            torch.nn.Conv3d(self.cube_len*8, 1, kernel_size=4, stride=2, bias=self.bias, padding=padd),\n",
    "            torch.nn.Sigmoid()\n",
    "        )\n",
    "        \n",
    "    def forward(self, x):\n",
    "        #print(x)\n",
    "        out = x.view(-1, 1, self.cube_len, self.cube_len, self.cube_len)\n",
    "#         print(out.size()) # torch.Size([100, 1, 32, 32, 32])\n",
    "        out = self.layer1(out)\n",
    "#         print(out.size())  # torch.Size([100, 32, 16, 16, 16])\n",
    "        out = self.layer2(out)\n",
    "#         print(out.size())  # torch.Size([100, 64, 8, 8, 8])\n",
    "        out = self.layer3(out)\n",
    "#         print(out.size())  # torch.Size([100, 128, 4, 4, 4])\n",
    "        out = self.layer4(out)\n",
    "#         print(out.size())  # torch.Size([100, 256, 2, 2, 2])\n",
    "        out = self.layer5(out)\n",
    "#         print(out.size())  # torch.Size([100, 1, 1, 1, 1])\n",
    "\n",
    "        return out.squeeze()\n",
    "        "
   ]
  },
  {
   "cell_type": "code",
   "execution_count": 25,
   "metadata": {},
   "outputs": [],
   "source": [
    "# hyperparameters\n",
    "batch_size = 20\n",
    "lr_g = 0.0025\n",
    "lr_d = 0.001\n",
    "adam_beta_g = (0.5, 0.5)\n",
    "adam_beta_d = (0.5, 0.5)"
   ]
  },
  {
   "cell_type": "code",
   "execution_count": 28,
   "metadata": {},
   "outputs": [],
   "source": [
    "# load data\n",
    "train_data = [np.load('chair_voxels.npy'), np.load('padded_gray_images.npy')]\n",
    "for _ in range(len(train_data)):\n",
    "    train_data[_] =torch.from_numpy(train_data[_]).type(torch.FloatTensor)\n",
    "    train_data[_] = train_data[_].cuda()\n",
    "train_data = [(train_data[0][i], train_data[1][i]) for i in range(len(train_data[0]))] \n",
    "train_loader = torch.utils.data.DataLoader(\n",
    "    train_data, batch_size=batch_size, shuffle=True, drop_last=True)"
   ]
  },
  {
   "cell_type": "code",
   "execution_count": 29,
   "metadata": {},
   "outputs": [
    {
     "data": {
      "text/plain": [
       "discriminator(\n",
       "  (layer1): Sequential(\n",
       "    (0): Conv3d(1, 32, kernel_size=(4, 4, 4), stride=(2, 2, 2), padding=(1, 1, 1), bias=False)\n",
       "    (1): BatchNorm3d(32, eps=1e-05, momentum=0.1, affine=True)\n",
       "    (2): LeakyReLU(0.2)\n",
       "  )\n",
       "  (layer2): Sequential(\n",
       "    (0): Conv3d(32, 64, kernel_size=(4, 4, 4), stride=(2, 2, 2), padding=(1, 1, 1), bias=False)\n",
       "    (1): BatchNorm3d(64, eps=1e-05, momentum=0.1, affine=True)\n",
       "    (2): LeakyReLU(0.2)\n",
       "  )\n",
       "  (layer3): Sequential(\n",
       "    (0): Conv3d(64, 128, kernel_size=(4, 4, 4), stride=(2, 2, 2), padding=(1, 1, 1), bias=False)\n",
       "    (1): BatchNorm3d(128, eps=1e-05, momentum=0.1, affine=True)\n",
       "    (2): LeakyReLU(0.2)\n",
       "  )\n",
       "  (layer4): Sequential(\n",
       "    (0): Conv3d(128, 256, kernel_size=(4, 4, 4), stride=(2, 2, 2), padding=(1, 1, 1), bias=False)\n",
       "    (1): BatchNorm3d(256, eps=1e-05, momentum=0.1, affine=True)\n",
       "    (2): LeakyReLU(0.2)\n",
       "  )\n",
       "  (layer5): Sequential(\n",
       "    (0): Conv3d(256, 1, kernel_size=(4, 4, 4), stride=(2, 2, 2), padding=(1, 1, 1), bias=False)\n",
       "    (1): Sigmoid()\n",
       "  )\n",
       ")"
      ]
     },
     "execution_count": 29,
     "metadata": {},
     "output_type": "execute_result"
    }
   ],
   "source": [
    "enc = encoder()\n",
    "enc.cuda()\n",
    "dec = decoder()\n",
    "dec.cuda()\n",
    "dis3d = discriminator()\n",
    "dis3d.cuda()"
   ]
  },
  {
   "cell_type": "code",
   "execution_count": 33,
   "metadata": {},
   "outputs": [
    {
     "name": "stdout",
     "output_type": "stream",
     "text": [
      "torch.Size([20, 1, 128, 128])\n"
     ]
    }
   ],
   "source": [
    "for batch_idx, (data3d, data2d) in enumerate(train_loader):\n",
    "    print(data2d.unsqueeze(1).shape)\n",
    "    break"
   ]
  },
  {
   "cell_type": "code",
   "execution_count": 40,
   "metadata": {},
   "outputs": [],
   "source": [
    "\n",
    "D_solver = optim.Adam(dis3d.parameters(), lr=lr_d, betas = adam_beta_d)\n",
    "Encoder_solver = optim.Adam(enc.parameters(), lr=lr_g, betas = adam_beta_g)\n",
    "Decoder_solver = optim.Adam(dec.parameters(), lr=lr_g, betas = adam_beta_g)"
   ]
  },
  {
   "cell_type": "code",
   "execution_count": 36,
   "metadata": {},
   "outputs": [],
   "source": [
    "G_Losses = []\n",
    "D_Losses = []\n",
    "R_Accs = []\n",
    "F_Accs = []"
   ]
  },
  {
   "cell_type": "code",
   "execution_count": null,
   "metadata": {},
   "outputs": [
    {
     "name": "stdout",
     "output_type": "stream",
     "text": [
      "Epoch:  0 \n",
      " D loss:  1.0635344  G loss:  1.5187576\n",
      " Accuracy:  0.7353571653366089  Real Acc:  0.73  Fake Acc:  0.7407143\n",
      "Epoch:  1 \n",
      " D loss:  1.0030997  G loss:  1.6915092\n",
      " Accuracy:  0.7639285326004028  Real Acc:  0.77071434  Fake Acc:  0.7571428\n",
      "Epoch:  2 \n",
      " D loss:  1.0117035  G loss:  1.526736\n",
      " Accuracy:  0.7628571391105652  Real Acc:  0.735  Fake Acc:  0.79071426\n",
      "Epoch:  3 \n",
      " D loss:  0.90519756  G loss:  1.7915637\n",
      " Accuracy:  0.802142858505249  Real Acc:  0.7978571  Fake Acc:  0.8064286\n",
      "Epoch:  4 \n",
      " D loss:  0.9953903  G loss:  1.6256318\n",
      " Accuracy:  0.7685714364051819  Real Acc:  0.74214286  Fake Acc:  0.795\n",
      "Epoch:  5 \n",
      " D loss:  0.973857  G loss:  1.4873501\n",
      " Accuracy:  0.802142858505249  Real Acc:  0.78999996  Fake Acc:  0.8142857\n",
      "Epoch:  6 \n",
      " D loss:  0.9429256  G loss:  1.557825\n",
      " Accuracy:  0.8160713911056519  Real Acc:  0.75857145  Fake Acc:  0.8735714\n",
      "Epoch:  7 \n",
      " D loss:  1.1077569  G loss:  1.5034024\n",
      " Accuracy:  0.7253571152687073  Real Acc:  0.71857136  Fake Acc:  0.73214287\n",
      "Epoch:  8 \n",
      " D loss:  1.0399438  G loss:  1.5219655\n",
      " Accuracy:  0.7610714435577393  Real Acc:  0.73285717  Fake Acc:  0.7892857\n",
      "Epoch:  9 \n",
      " D loss:  1.0950494  G loss:  1.4700091\n",
      " Accuracy:  0.7374999523162842  Real Acc:  0.7164285  Fake Acc:  0.75857145\n",
      "Epoch:  10 \n",
      " D loss:  1.0505146  G loss:  1.4036273\n",
      " Accuracy:  0.7632143497467041  Real Acc:  0.7421429  Fake Acc:  0.7842857\n"
     ]
    }
   ],
   "source": [
    "#Training the system\n",
    "num_epochs = 20\n",
    "\n",
    "loss = nn.BCELoss()\n",
    "\n",
    "for epoch in range(num_epochs):\n",
    "    d_losses = []\n",
    "    g_losses = []\n",
    "    real_accs = []\n",
    "    fake_accs = []\n",
    "    for batch_idx, (data3d, data2d) in enumerate(train_loader):\n",
    "        real_labels = Variable(torch.ones(batch_size).cuda())\n",
    "        fake_labels = Variable(torch.zeros(batch_size).cuda())\n",
    "        real = Variable(data3d).cuda().float()\n",
    "        fake_2d = Variable(data2d.unsqueeze(1)).cuda().float()\n",
    "        #Discriminator loss\n",
    "        #z = generateLatent(batch_size=batch_size)\n",
    "        encoded_z = enc(fake_2d).unsqueeze(4)\n",
    "        fake = dec(encoded_z)\n",
    "        fake_labels_pred = dis3d(fake)\n",
    "        #print(Variable(data3d))\n",
    "        real_labels_pred = dis3d(real)\n",
    "        #print(real_labels_pred)\n",
    "        loss_fake = loss(fake_labels_pred, fake_labels)\n",
    "        loss_real = loss(real_labels_pred, real_labels)\n",
    "        d_loss = loss_fake + loss_real\n",
    "        d_real_acu = torch.ge(real_labels_pred.squeeze(), 0.5).float()\n",
    "        d_fake_acu = torch.le(fake_labels_pred.squeeze(), 0.5).float()\n",
    "        d_real_acu_mean = torch.mean(d_real_acu)\n",
    "        d_fake_acu_mean = torch.mean(d_fake_acu)\n",
    "        d_total_acu = torch.mean(torch.cat((d_real_acu, d_fake_acu),0))\n",
    "        if d_total_acu.data.cpu().numpy() <=0.8:\n",
    "#         print(d_total_acu.data)\n",
    "#         if d_total_acu <= 0.8:\n",
    "            dis3d.zero_grad()\n",
    "            d_loss.backward()\n",
    "            D_solver.step()\n",
    "        \n",
    "        #Generator loss \n",
    "        encoded_z = enc(fake_2d).unsqueeze(4)\n",
    "        fake = dec(encoded_z)\n",
    "        d_fake = dis3d(fake)\n",
    "        g_loss = loss(d_fake, real_labels)\n",
    "\n",
    "        dis3d.zero_grad()\n",
    "        enc.zero_grad()\n",
    "        dec.zero_grad()\n",
    "        g_loss.backward()\n",
    "        Encoder_solver.step()\n",
    "        Decoder_solver.step()\n",
    "        \n",
    "        d_losses.append(d_loss.data.cpu().numpy())\n",
    "        g_losses.append(g_loss.data.cpu().numpy())\n",
    "        real_accs.append(d_real_acu_mean.data.cpu().numpy())\n",
    "        fake_accs.append(d_fake_acu_mean.data.cpu().numpy())\n",
    "        \n",
    "#         #Printing\n",
    "#         if batch_idx%50 == 0:\n",
    "#             print(\"Epoch: \", epoch)\n",
    "#             print(\"batch iteration: \", batch_idx, \"D loss: \", d_loss.data.cpu().numpy(), \\\n",
    "#                   \" G loss: \", g_loss.data.cpu().numpy())\n",
    "#             print(\"Accuracy: \", d_total_acu.data.cpu().numpy(), \" Real Acc: \", d_real_acu_mean.data.cpu().numpy(), \\\n",
    "#                   \" Fake Acc: \", d_fake_acu_mean.data.cpu().numpy())\n",
    "        \n",
    "    d_losses_mean = np.mean(np.concatenate(d_losses))\n",
    "    g_losses_mean =  np.mean(np.concatenate(g_losses))\n",
    "    real_accs_mean =  np.mean(np.concatenate(real_accs))\n",
    "    fake_accs_mean =  np.mean(np.concatenate(fake_accs))\n",
    "    \n",
    "    print(\"Epoch: \", epoch, '\\n', \"D loss: \", d_losses_mean, \" G loss: \", g_losses_mean)\n",
    "    print(\" Accuracy: \", (real_accs_mean+ fake_accs_mean)/2 , \" Real Acc: \", real_accs_mean, \\\n",
    "          \" Fake Acc: \", fake_accs_mean)\n",
    "    \n",
    "    G_Losses.append(g_losses_mean)\n",
    "    D_Losses.append(d_losses_mean)\n",
    "    R_Accs.append(real_accs_mean)\n",
    "    F_Accs.append(fake_accs_mean)"
   ]
  },
  {
   "cell_type": "code",
   "execution_count": 45,
   "metadata": {},
   "outputs": [],
   "source": [
    "#Utils\n",
    "def display3DObject(test_object):   \n",
    "    print(\"Displaying the object\")\n",
    "    fig = plt.figure()\n",
    "    ax = fig.gca(projection='3d')\n",
    "    ax.voxels(test_object, edgecolor='k')\n",
    "    plt.show()\n",
    "    "
   ]
  },
  {
   "cell_type": "code",
   "execution_count": 56,
   "metadata": {},
   "outputs": [
    {
     "name": "stdout",
     "output_type": "stream",
     "text": [
      "Displaying the object\n"
     ]
    },
    {
     "data": {
      "image/png": "[encoded data removed]",
      "text/plain": [
       "<Figure size 432x288 with 1 Axes>"
      ]
     },
     "metadata": {},
     "output_type": "display_data"
    },
    {
     "data": {
      "image/png": "[encoded data removed]",
      "text/plain": [
       "<Figure size 432x288 with 1 Axes>"
      ]
     },
     "metadata": {},
     "output_type": "display_data"
    }
   ],
   "source": [
    "# test\n",
    "test_image = Variable(torch.FloatTensor(images[43:44]).cuda()).view(-1,1,128,128)\n",
    "plt.imshow(images[43])\n",
    "latent = enc(test_image)\n",
    "faker = dec(latent.unsqueeze(4))\n",
    "display3DObject(faker.squeeze().data.cpu().numpy()>0.5)"
   ]
  },
  {
   "cell_type": "code",
   "execution_count": 13,
   "metadata": {},
   "outputs": [
    {
     "name": "stdout",
     "output_type": "stream",
     "text": [
      "(1, 128, 128)\n"
     ]
    }
   ],
   "source": [
    "images = np.load(\"padded_gray_chair_imgs.npy\")\n",
    "print(images[0:1].shape)"
   ]
  },
  {
   "cell_type": "code",
   "execution_count": 23,
   "metadata": {},
   "outputs": [
    {
     "name": "stdout",
     "output_type": "stream",
     "text": [
      "torch.Size([2, 200, 1, 1, 1])\n",
      "torch.Size([2, 1, 32, 32, 32])\n"
     ]
    }
   ],
   "source": [
    "enc = encoder()\n",
    "test_image = Variable(torch.FloatTensor(images[0:2])).view(-1,1,128,128)\n",
    "value = enc(test_image)\n",
    "print(value.unsqueeze(4).shape)\n",
    "dec = decoder()\n",
    "value = dec(value.unsqueeze(4))\n",
    "print(value.shape)"
   ]
  },
  {
   "cell_type": "code",
   "execution_count": null,
   "metadata": {},
   "outputs": [],
   "source": []
  }
 ],
 "metadata": {
  "kernelspec": {
   "display_name": "Python 3",
   "language": "python",
   "name": "python3"
  },
  "language_info": {
   "codemirror_mode": {
    "name": "ipython",
    "version": 3
   },
   "file_extension": ".py",
   "mimetype": "text/x-python",
   "name": "python",
   "nbconvert_exporter": "python",
   "pygments_lexer": "ipython3",
   "version": "3.5.5"
  }
 },
 "nbformat": 4,
 "nbformat_minor": 2
}
